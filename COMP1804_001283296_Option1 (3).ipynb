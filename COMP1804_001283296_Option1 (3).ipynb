{
  "nbformat": 4,
  "nbformat_minor": 0,
  "metadata": {
    "colab": {
      "provenance": []
    },
    "kernelspec": {
      "name": "python3",
      "display_name": "Python 3"
    },
    "language_info": {
      "name": "python"
    }
  },
  "cells": [
    {
      "cell_type": "markdown",
      "source": [
        "## Importing required Library"
      ],
      "metadata": {
        "id": "Rlj4OQkDaESX"
      }
    },
    {
      "cell_type": "code",
      "execution_count": null,
      "metadata": {
        "id": "4o4Toh2r0-nC"
      },
      "outputs": [],
      "source": [
        "#importing required library\n",
        "import numpy as np # numpy is a library that allows us to work with vectors and matrices\n",
        "import matplotlib.pyplot as plt # visualisation library\n",
        "import pandas as pd # pandas is a library that allows us to work with DataFrames\n",
        "import seaborn as sea\n",
        "\n",
        "from sklearn.tree import DecisionTreeClassifier\n",
        "from sklearn.model_selection import train_test_split\n",
        "from sklearn import preprocessing\n",
        "from sklearn.metrics import accuracy_score\n",
        "\n",
        "import warnings\n",
        "warnings.filterwarnings(\"ignore\")\n"
      ]
    },
    {
      "cell_type": "markdown",
      "source": [
        "## Data Upload using google drive, to reduce upload time for each execution"
      ],
      "metadata": {
        "id": "haO47lowaG7X"
      }
    },
    {
      "cell_type": "code",
      "source": [
        "# Mount Google Drive to access files\n",
        "from google.colab import drive\n",
        "drive.mount('/content/drive')\n",
        "\n",
        "# Read the CSV file into a DataFrame\n",
        "train_dataset = pd.read_csv('/content/drive/MyDrive/AML/uk_road.csv')\n",
        "\n",
        "# View the first few rows of the DataFrame\n",
        "train_dataset.head()"
      ],
      "metadata": {
        "colab": {
          "base_uri": "https://localhost:8080/",
          "height": 375
        },
        "id": "LK-KXyOM5Lek",
        "outputId": "01508eba-06db-42f7-f247-dd856598a2e5"
      },
      "execution_count": null,
      "outputs": [
        {
          "output_type": "stream",
          "name": "stdout",
          "text": [
            "Mounted at /content/drive\n"
          ]
        },
        {
          "output_type": "execute_result",
          "data": {
            "text/plain": [
              "  accident_index  speed_limit light_conditions weather_conditions  \\\n",
              "0  2019010225080           30         darkness              other   \n",
              "1  2019200908684           30         darkness               fine   \n",
              "2  2019040860897           40         daylight               fine   \n",
              "3  2019460847205           40         daylight               fine   \n",
              "4  2019051911581           30         daylight               fine   \n",
              "\n",
              "  road_surface_conditions      vehicle_type  \\\n",
              "0             wet or damp  at least one van   \n",
              "1                     dry         only cars   \n",
              "2                     dry         only cars   \n",
              "3                     dry         only cars   \n",
              "4                     dry         only cars   \n",
              "\n",
              "                        junction_location    skidding_and_overturning  \\\n",
              "0      at or within 20 metres of junction  no skidding or overturning   \n",
              "1      at or within 20 metres of junction  no skidding or overturning   \n",
              "2      at or within 20 metres of junction  no skidding or overturning   \n",
              "3  not at or within 20 metres of junction  no skidding or overturning   \n",
              "4  not at or within 20 metres of junction  no skidding or overturning   \n",
              "\n",
              "                vehicle_leaving_carriageway  \\\n",
              "0                  none leaving carriageway   \n",
              "1  at least one vehicle leaving carriageway   \n",
              "2                  none leaving carriageway   \n",
              "3                  none leaving carriageway   \n",
              "4                  none leaving carriageway   \n",
              "\n",
              "           hit_object_off_carriageway  \\\n",
              "0                  none hit an object   \n",
              "1  at least one vehicle hit an object   \n",
              "2                  none hit an object   \n",
              "3                  none hit an object   \n",
              "4                  none hit an object   \n",
              "\n",
              "                      first_point_of_impact                 sex_of_driver  \\\n",
              "0                    other points of impact                     all males   \n",
              "1  at least one vehicle with frontal impact                     all males   \n",
              "2  at least one vehicle with frontal impact  data missing or out of range   \n",
              "3  at least one vehicle with frontal impact               male and female   \n",
              "4  at least one vehicle with frontal impact                   all females   \n",
              "\n",
              "   age_of_oldest_driver accident_severity  \n",
              "0                  63.0           serious  \n",
              "1                  82.0             fatal  \n",
              "2                   NaN           serious  \n",
              "3                   NaN           serious  \n",
              "4                  39.0            slight  "
            ],
            "text/html": [
              "\n",
              "  <div id=\"df-c4511629-24f8-4b6a-8cbd-7e27a43af8e5\">\n",
              "    <div class=\"colab-df-container\">\n",
              "      <div>\n",
              "<style scoped>\n",
              "    .dataframe tbody tr th:only-of-type {\n",
              "        vertical-align: middle;\n",
              "    }\n",
              "\n",
              "    .dataframe tbody tr th {\n",
              "        vertical-align: top;\n",
              "    }\n",
              "\n",
              "    .dataframe thead th {\n",
              "        text-align: right;\n",
              "    }\n",
              "</style>\n",
              "<table border=\"1\" class=\"dataframe\">\n",
              "  <thead>\n",
              "    <tr style=\"text-align: right;\">\n",
              "      <th></th>\n",
              "      <th>accident_index</th>\n",
              "      <th>speed_limit</th>\n",
              "      <th>light_conditions</th>\n",
              "      <th>weather_conditions</th>\n",
              "      <th>road_surface_conditions</th>\n",
              "      <th>vehicle_type</th>\n",
              "      <th>junction_location</th>\n",
              "      <th>skidding_and_overturning</th>\n",
              "      <th>vehicle_leaving_carriageway</th>\n",
              "      <th>hit_object_off_carriageway</th>\n",
              "      <th>first_point_of_impact</th>\n",
              "      <th>sex_of_driver</th>\n",
              "      <th>age_of_oldest_driver</th>\n",
              "      <th>accident_severity</th>\n",
              "    </tr>\n",
              "  </thead>\n",
              "  <tbody>\n",
              "    <tr>\n",
              "      <th>0</th>\n",
              "      <td>2019010225080</td>\n",
              "      <td>30</td>\n",
              "      <td>darkness</td>\n",
              "      <td>other</td>\n",
              "      <td>wet or damp</td>\n",
              "      <td>at least one van</td>\n",
              "      <td>at or within 20 metres of junction</td>\n",
              "      <td>no skidding or overturning</td>\n",
              "      <td>none leaving carriageway</td>\n",
              "      <td>none hit an object</td>\n",
              "      <td>other points of impact</td>\n",
              "      <td>all males</td>\n",
              "      <td>63.0</td>\n",
              "      <td>serious</td>\n",
              "    </tr>\n",
              "    <tr>\n",
              "      <th>1</th>\n",
              "      <td>2019200908684</td>\n",
              "      <td>30</td>\n",
              "      <td>darkness</td>\n",
              "      <td>fine</td>\n",
              "      <td>dry</td>\n",
              "      <td>only cars</td>\n",
              "      <td>at or within 20 metres of junction</td>\n",
              "      <td>no skidding or overturning</td>\n",
              "      <td>at least one vehicle leaving carriageway</td>\n",
              "      <td>at least one vehicle hit an object</td>\n",
              "      <td>at least one vehicle with frontal impact</td>\n",
              "      <td>all males</td>\n",
              "      <td>82.0</td>\n",
              "      <td>fatal</td>\n",
              "    </tr>\n",
              "    <tr>\n",
              "      <th>2</th>\n",
              "      <td>2019040860897</td>\n",
              "      <td>40</td>\n",
              "      <td>daylight</td>\n",
              "      <td>fine</td>\n",
              "      <td>dry</td>\n",
              "      <td>only cars</td>\n",
              "      <td>at or within 20 metres of junction</td>\n",
              "      <td>no skidding or overturning</td>\n",
              "      <td>none leaving carriageway</td>\n",
              "      <td>none hit an object</td>\n",
              "      <td>at least one vehicle with frontal impact</td>\n",
              "      <td>data missing or out of range</td>\n",
              "      <td>NaN</td>\n",
              "      <td>serious</td>\n",
              "    </tr>\n",
              "    <tr>\n",
              "      <th>3</th>\n",
              "      <td>2019460847205</td>\n",
              "      <td>40</td>\n",
              "      <td>daylight</td>\n",
              "      <td>fine</td>\n",
              "      <td>dry</td>\n",
              "      <td>only cars</td>\n",
              "      <td>not at or within 20 metres of junction</td>\n",
              "      <td>no skidding or overturning</td>\n",
              "      <td>none leaving carriageway</td>\n",
              "      <td>none hit an object</td>\n",
              "      <td>at least one vehicle with frontal impact</td>\n",
              "      <td>male and female</td>\n",
              "      <td>NaN</td>\n",
              "      <td>serious</td>\n",
              "    </tr>\n",
              "    <tr>\n",
              "      <th>4</th>\n",
              "      <td>2019051911581</td>\n",
              "      <td>30</td>\n",
              "      <td>daylight</td>\n",
              "      <td>fine</td>\n",
              "      <td>dry</td>\n",
              "      <td>only cars</td>\n",
              "      <td>not at or within 20 metres of junction</td>\n",
              "      <td>no skidding or overturning</td>\n",
              "      <td>none leaving carriageway</td>\n",
              "      <td>none hit an object</td>\n",
              "      <td>at least one vehicle with frontal impact</td>\n",
              "      <td>all females</td>\n",
              "      <td>39.0</td>\n",
              "      <td>slight</td>\n",
              "    </tr>\n",
              "  </tbody>\n",
              "</table>\n",
              "</div>\n",
              "      <button class=\"colab-df-convert\" onclick=\"convertToInteractive('df-c4511629-24f8-4b6a-8cbd-7e27a43af8e5')\"\n",
              "              title=\"Convert this dataframe to an interactive table.\"\n",
              "              style=\"display:none;\">\n",
              "        \n",
              "  <svg xmlns=\"http://www.w3.org/2000/svg\" height=\"24px\"viewBox=\"0 0 24 24\"\n",
              "       width=\"24px\">\n",
              "    <path d=\"M0 0h24v24H0V0z\" fill=\"none\"/>\n",
              "    <path d=\"M18.56 5.44l.94 2.06.94-2.06 2.06-.94-2.06-.94-.94-2.06-.94 2.06-2.06.94zm-11 1L8.5 8.5l.94-2.06 2.06-.94-2.06-.94L8.5 2.5l-.94 2.06-2.06.94zm10 10l.94 2.06.94-2.06 2.06-.94-2.06-.94-.94-2.06-.94 2.06-2.06.94z\"/><path d=\"M17.41 7.96l-1.37-1.37c-.4-.4-.92-.59-1.43-.59-.52 0-1.04.2-1.43.59L10.3 9.45l-7.72 7.72c-.78.78-.78 2.05 0 2.83L4 21.41c.39.39.9.59 1.41.59.51 0 1.02-.2 1.41-.59l7.78-7.78 2.81-2.81c.8-.78.8-2.07 0-2.86zM5.41 20L4 18.59l7.72-7.72 1.47 1.35L5.41 20z\"/>\n",
              "  </svg>\n",
              "      </button>\n",
              "      \n",
              "  <style>\n",
              "    .colab-df-container {\n",
              "      display:flex;\n",
              "      flex-wrap:wrap;\n",
              "      gap: 12px;\n",
              "    }\n",
              "\n",
              "    .colab-df-convert {\n",
              "      background-color: #E8F0FE;\n",
              "      border: none;\n",
              "      border-radius: 50%;\n",
              "      cursor: pointer;\n",
              "      display: none;\n",
              "      fill: #1967D2;\n",
              "      height: 32px;\n",
              "      padding: 0 0 0 0;\n",
              "      width: 32px;\n",
              "    }\n",
              "\n",
              "    .colab-df-convert:hover {\n",
              "      background-color: #E2EBFA;\n",
              "      box-shadow: 0px 1px 2px rgba(60, 64, 67, 0.3), 0px 1px 3px 1px rgba(60, 64, 67, 0.15);\n",
              "      fill: #174EA6;\n",
              "    }\n",
              "\n",
              "    [theme=dark] .colab-df-convert {\n",
              "      background-color: #3B4455;\n",
              "      fill: #D2E3FC;\n",
              "    }\n",
              "\n",
              "    [theme=dark] .colab-df-convert:hover {\n",
              "      background-color: #434B5C;\n",
              "      box-shadow: 0px 1px 3px 1px rgba(0, 0, 0, 0.15);\n",
              "      filter: drop-shadow(0px 1px 2px rgba(0, 0, 0, 0.3));\n",
              "      fill: #FFFFFF;\n",
              "    }\n",
              "  </style>\n",
              "\n",
              "      <script>\n",
              "        const buttonEl =\n",
              "          document.querySelector('#df-c4511629-24f8-4b6a-8cbd-7e27a43af8e5 button.colab-df-convert');\n",
              "        buttonEl.style.display =\n",
              "          google.colab.kernel.accessAllowed ? 'block' : 'none';\n",
              "\n",
              "        async function convertToInteractive(key) {\n",
              "          const element = document.querySelector('#df-c4511629-24f8-4b6a-8cbd-7e27a43af8e5');\n",
              "          const dataTable =\n",
              "            await google.colab.kernel.invokeFunction('convertToInteractive',\n",
              "                                                     [key], {});\n",
              "          if (!dataTable) return;\n",
              "\n",
              "          const docLinkHtml = 'Like what you see? Visit the ' +\n",
              "            '<a target=\"_blank\" href=https://colab.research.google.com/notebooks/data_table.ipynb>data table notebook</a>'\n",
              "            + ' to learn more about interactive tables.';\n",
              "          element.innerHTML = '';\n",
              "          dataTable['output_type'] = 'display_data';\n",
              "          await google.colab.output.renderOutput(dataTable, element);\n",
              "          const docLink = document.createElement('div');\n",
              "          docLink.innerHTML = docLinkHtml;\n",
              "          element.appendChild(docLink);\n",
              "        }\n",
              "      </script>\n",
              "    </div>\n",
              "  </div>\n",
              "  "
            ]
          },
          "metadata": {},
          "execution_count": 2
        }
      ]
    },
    {
      "cell_type": "markdown",
      "source": [
        "##1 EDA\n",
        "##1.1 Feature and Label annalysis using pandas\n",
        "\n",
        "\n",
        "\n",
        "> Printing train_dataset size, Feature names and data types\n",
        "\n",
        "> Checking for null values\n",
        "\n",
        "\n",
        "\n"
      ],
      "metadata": {
        "id": "uCZd22OIak94"
      }
    },
    {
      "cell_type": "code",
      "source": [
        "# Check the dimensions of the dataset\n",
        "print(\"Number of rows:\", train_dataset.shape[0])\n",
        "print(\"Number of columns:\", train_dataset.shape[1])\n",
        "\n",
        "# Check the data types of the columns\n",
        "print(train_dataset.dtypes)\n",
        "\n",
        "# Check for missing values\n",
        "print(train_dataset.isnull().sum())\n",
        "\n",
        "# Check for class imbalance\n",
        "#print(train_dataset['accident_severity'].value_counts().plot(kind='bar'))\n",
        "\n",
        "# Visualize the data\n",
        "#import matplotlib.pyplot as plt\n",
        "#plt.hist(train_dataset['age_of_driver'], bins=20)\n",
        "#plt.xlabel('Age of Driver')\n",
        "#plt.ylabel('Frequency')\n",
        "#plt.show()\n"
      ],
      "metadata": {
        "colab": {
          "base_uri": "https://localhost:8080/"
        },
        "id": "dbS83JMC55Zl",
        "outputId": "c8d65eff-6113-4742-cdb4-c1aad8b01cfd"
      },
      "execution_count": null,
      "outputs": [
        {
          "output_type": "stream",
          "name": "stdout",
          "text": [
            "Number of rows: 31647\n",
            "Number of columns: 14\n",
            "accident_index                  object\n",
            "speed_limit                      int64\n",
            "light_conditions                object\n",
            "weather_conditions              object\n",
            "road_surface_conditions         object\n",
            "vehicle_type                    object\n",
            "junction_location               object\n",
            "skidding_and_overturning        object\n",
            "vehicle_leaving_carriageway     object\n",
            "hit_object_off_carriageway      object\n",
            "first_point_of_impact           object\n",
            "sex_of_driver                   object\n",
            "age_of_oldest_driver           float64\n",
            "accident_severity               object\n",
            "dtype: object\n",
            "accident_index                    0\n",
            "speed_limit                       0\n",
            "light_conditions                  0\n",
            "weather_conditions                0\n",
            "road_surface_conditions           0\n",
            "vehicle_type                      0\n",
            "junction_location                 0\n",
            "skidding_and_overturning          0\n",
            "vehicle_leaving_carriageway       0\n",
            "hit_object_off_carriageway        0\n",
            "first_point_of_impact             0\n",
            "sex_of_driver                     0\n",
            "age_of_oldest_driver           6450\n",
            "accident_severity              1172\n",
            "dtype: int64\n"
          ]
        }
      ]
    },
    {
      "cell_type": "markdown",
      "source": [
        "##1.2 Evaluating count for categorical values"
      ],
      "metadata": {
        "id": "C5icZOvubPAY"
      }
    },
    {
      "cell_type": "code",
      "source": [
        "# let's list all categorical features\n",
        "categorical_columns= ['light_conditions', 'weather_conditions', 'road_surface_conditions', 'vehicle_type',\n",
        "       'junction_location', 'skidding_and_overturning','first_point_of_impact','sex_of_driver','accident_severity']\n",
        "\n",
        "# let's get the categories and their count for each feature\n",
        "for col in categorical_columns:\n",
        "    print(f\"Categories and number of occurrences for '{col}'\")\n",
        "    print(train_dataset[col].value_counts())\n",
        "    print()"
      ],
      "metadata": {
        "colab": {
          "base_uri": "https://localhost:8080/"
        },
        "id": "I7BPrt7ZJKf1",
        "outputId": "8aa82d03-5780-410b-9bcb-17f3c1eb984f"
      },
      "execution_count": null,
      "outputs": [
        {
          "output_type": "stream",
          "name": "stdout",
          "text": [
            "Categories and number of occurrences for 'light_conditions'\n",
            "daylight    22210\n",
            "darkness     9437\n",
            "Name: light_conditions, dtype: int64\n",
            "\n",
            "Categories and number of occurrences for 'weather_conditions'\n",
            "fine                            25152\n",
            "other                            5407\n",
            "data missing or out of range      970\n",
            "fog or mist                       118\n",
            "Name: weather_conditions, dtype: int64\n",
            "\n",
            "Categories and number of occurrences for 'road_surface_conditions'\n",
            "dry                             22092\n",
            "wet or damp                      8761\n",
            "other                             374\n",
            "data missing or out of range      365\n",
            "flood over 3cm. deep               55\n",
            "Name: road_surface_conditions, dtype: int64\n",
            "\n",
            "Categories and number of occurrences for 'vehicle_type'\n",
            "only cars                       17487\n",
            "at least one biped               8662\n",
            "at least one van                 4040\n",
            "biped and van                    1000\n",
            "other                             395\n",
            "data missing or out of range       63\n",
            "Name: vehicle_type, dtype: int64\n",
            "\n",
            "Categories and number of occurrences for 'junction_location'\n",
            "at or within 20 metres of junction        17204\n",
            "not at or within 20 metres of junction    12973\n",
            "data missing or out of range               1470\n",
            "Name: junction_location, dtype: int64\n",
            "\n",
            "Categories and number of occurrences for 'skidding_and_overturning'\n",
            "no skidding or overturning                    24387\n",
            "at least one vehicle skidded or overturned     5226\n",
            "data missing or out of range                   2034\n",
            "Name: skidding_and_overturning, dtype: int64\n",
            "\n",
            "Categories and number of occurrences for 'first_point_of_impact'\n",
            "at least one vehicle with frontal impact    23002\n",
            "other points of impact                       6008\n",
            "no impact                                    1333\n",
            "data missing or out of range                 1304\n",
            "Name: first_point_of_impact, dtype: int64\n",
            "\n",
            "Categories and number of occurrences for 'sex_of_driver'\n",
            "all males                       15494\n",
            "male and female                  7015\n",
            "data missing or out of range     5122\n",
            "all females                      4016\n",
            "Name: sex_of_driver, dtype: int64\n",
            "\n",
            "Categories and number of occurrences for 'accident_severity'\n",
            "slight     12672\n",
            "serious    11592\n",
            "fatal       6159\n",
            "Serious       25\n",
            "Slight        19\n",
            "Fatal          8\n",
            "Name: accident_severity, dtype: int64\n",
            "\n"
          ]
        }
      ]
    },
    {
      "cell_type": "code",
      "source": [
        "train_dataset.loc[train_dataset.accident_severity=='Slight','accident_severity'] = 'slight'\n",
        "train_dataset.loc[train_dataset.accident_severity=='Fatal','accident_severity'] = 'fatal'\n",
        "train_dataset.loc[train_dataset.accident_severity=='Serious','accident_severity'] = 'serious'\n",
        "\n",
        "print(train_dataset['accident_severity'].value_counts())\n"
      ],
      "metadata": {
        "id": "EwAv_RkzytXx",
        "colab": {
          "base_uri": "https://localhost:8080/"
        },
        "outputId": "532f28fd-4e42-41a4-c273-c669f2925cb7"
      },
      "execution_count": null,
      "outputs": [
        {
          "output_type": "stream",
          "name": "stdout",
          "text": [
            "slight     12691\n",
            "serious    11617\n",
            "fatal       6167\n",
            "Name: accident_severity, dtype: int64\n"
          ]
        }
      ]
    },
    {
      "cell_type": "markdown",
      "source": [
        "##1.3 Handelling Null values by dropping them"
      ],
      "metadata": {
        "id": "1YSJNMCSbjzW"
      }
    },
    {
      "cell_type": "code",
      "source": [
        "# remove all rows with missing data\n",
        "# dropna removes all rows that contain at least one missing value\n",
        "print(f'Original dataset length: {len(train_dataset)}')\n",
        "reduced_train_dataset = train_dataset.dropna()\n",
        "reduced_train_dataset.dropna(inplace=True)\n",
        "print(f'Dataset length after removing missing rows: {len(reduced_train_dataset)}')\n",
        "train_dataset.head(5)\n",
        "\n",
        "print(\"Number of rows:\", reduced_train_dataset.shape[0])\n",
        "print(\"Number of columns:\", reduced_train_dataset.shape[1])"
      ],
      "metadata": {
        "colab": {
          "base_uri": "https://localhost:8080/"
        },
        "id": "CKfRybeLOstA",
        "outputId": "99019fd5-59e1-4465-d4a1-3f34532dfae0"
      },
      "execution_count": null,
      "outputs": [
        {
          "output_type": "stream",
          "name": "stdout",
          "text": [
            "Original dataset length: 31647\n",
            "Dataset length after removing missing rows: 24287\n",
            "Number of rows: 24287\n",
            "Number of columns: 14\n"
          ]
        }
      ]
    },
    {
      "cell_type": "markdown",
      "source": [
        "##1.4 Analysing  Label value after dropping null"
      ],
      "metadata": {
        "id": "wZT7pHCwbxuG"
      }
    },
    {
      "cell_type": "code",
      "source": [
        "print(reduced_train_dataset['accident_severity'].value_counts().plot(kind='bar'))"
      ],
      "metadata": {
        "colab": {
          "base_uri": "https://localhost:8080/",
          "height": 488
        },
        "id": "YUHfxQGCU2HL",
        "outputId": "e48e73b3-0544-4d5d-8e2b-ca4723305826"
      },
      "execution_count": null,
      "outputs": [
        {
          "output_type": "stream",
          "name": "stdout",
          "text": [
            "Axes(0.125,0.11;0.775x0.77)\n"
          ]
        },
        {
          "output_type": "display_data",
          "data": {
            "text/plain": [
              "<Figure size 640x480 with 1 Axes>"
            ],
            "image/png": "[encoded data removed]"
          },
          "metadata": {}
        }
      ]
    },
    {
      "cell_type": "markdown",
      "source": [
        "##1.5 Checking null values for confirmation"
      ],
      "metadata": {
        "id": "I0HAoByib7rW"
      }
    },
    {
      "cell_type": "code",
      "source": [
        "print(reduced_train_dataset.isnull().sum())"
      ],
      "metadata": {
        "colab": {
          "base_uri": "https://localhost:8080/"
        },
        "id": "bgn_m57RQthR",
        "outputId": "2e3b902f-389b-4ab0-ba45-d77f24e8caeb"
      },
      "execution_count": null,
      "outputs": [
        {
          "output_type": "stream",
          "name": "stdout",
          "text": [
            "accident_index                 0\n",
            "speed_limit                    0\n",
            "light_conditions               0\n",
            "weather_conditions             0\n",
            "road_surface_conditions        0\n",
            "vehicle_type                   0\n",
            "junction_location              0\n",
            "skidding_and_overturning       0\n",
            "vehicle_leaving_carriageway    0\n",
            "hit_object_off_carriageway     0\n",
            "first_point_of_impact          0\n",
            "sex_of_driver                  0\n",
            "age_of_oldest_driver           0\n",
            "accident_severity              0\n",
            "dtype: int64\n"
          ]
        }
      ]
    },
    {
      "cell_type": "markdown",
      "source": [
        "##1.6 Statistical analysis of numerical column i.e. Speed and Age of driver"
      ],
      "metadata": {
        "id": "2Yol-E85cVvS"
      }
    },
    {
      "cell_type": "code",
      "source": [
        "print(reduced_train_dataset[['speed_limit', 'age_of_oldest_driver']].describe())"
      ],
      "metadata": {
        "colab": {
          "base_uri": "https://localhost:8080/"
        },
        "id": "3KVC7d2z7tsF",
        "outputId": "aca1937d-9fb3-49d7-f3e4-9f866a5c47c5"
      },
      "execution_count": null,
      "outputs": [
        {
          "output_type": "stream",
          "name": "stdout",
          "text": [
            "        speed_limit  age_of_oldest_driver\n",
            "count  24287.000000          24287.000000\n",
            "mean      37.841644             47.260963\n",
            "std       14.307376             16.774969\n",
            "min       -1.000000              6.000000\n",
            "25%       30.000000             34.000000\n",
            "50%       30.000000             47.000000\n",
            "75%       50.000000             59.000000\n",
            "max       70.000000            101.000000\n"
          ]
        }
      ]
    },
    {
      "cell_type": "code",
      "source": [
        "import matplotlib.pyplot as plt\n",
        "\n",
        "# Create a histogram of the speed_limit column\n",
        "plt.hist(reduced_train_dataset['speed_limit'])\n",
        "plt.xlabel('Speed Limit')\n",
        "plt.ylabel('Count')\n",
        "plt.title('Distribution of Speed Limits')\n",
        "plt.show()"
      ],
      "metadata": {
        "colab": {
          "base_uri": "https://localhost:8080/",
          "height": 472
        },
        "id": "Ux9hD82C_Hu6",
        "outputId": "146cb0c4-d8b7-4569-9f3f-86545e924259"
      },
      "execution_count": null,
      "outputs": [
        {
          "output_type": "display_data",
          "data": {
            "text/plain": [
              "<Figure size 640x480 with 1 Axes>"
            ],
            "image/png": "[encoded data removed]"
          },
          "metadata": {}
        }
      ]
    },
    {
      "cell_type": "code",
      "source": [
        "# let's get the categories and their count for each feature\n",
        "for col in categorical_columns:\n",
        "  print(f\"Categories and number of occurrences for '{col}'\")\n",
        "  print(reduced_train_dataset[col].value_counts())\n",
        "  print()"
      ],
      "metadata": {
        "colab": {
          "base_uri": "https://localhost:8080/"
        },
        "id": "54g29Bam8uR_",
        "outputId": "866278c6-018e-41a6-d185-59a300fd28b7"
      },
      "execution_count": null,
      "outputs": [
        {
          "output_type": "stream",
          "name": "stdout",
          "text": [
            "Categories and number of occurrences for 'light_conditions'\n",
            "daylight    17156\n",
            "darkness     7131\n",
            "Name: light_conditions, dtype: int64\n",
            "\n",
            "Categories and number of occurrences for 'weather_conditions'\n",
            "fine                            19496\n",
            "other                            4218\n",
            "data missing or out of range      473\n",
            "fog or mist                       100\n",
            "Name: weather_conditions, dtype: int64\n",
            "\n",
            "Categories and number of occurrences for 'road_surface_conditions'\n",
            "dry                             16729\n",
            "wet or damp                      7077\n",
            "other                             320\n",
            "data missing or out of range      112\n",
            "flood over 3cm. deep               49\n",
            "Name: road_surface_conditions, dtype: int64\n",
            "\n",
            "Categories and number of occurrences for 'vehicle_type'\n",
            "only cars                       13527\n",
            "at least one biped               6596\n",
            "at least one van                 3139\n",
            "biped and van                     738\n",
            "other                             282\n",
            "data missing or out of range        5\n",
            "Name: vehicle_type, dtype: int64\n",
            "\n",
            "Categories and number of occurrences for 'junction_location'\n",
            "at or within 20 metres of junction        13708\n",
            "not at or within 20 metres of junction    10190\n",
            "data missing or out of range                389\n",
            "Name: junction_location, dtype: int64\n",
            "\n",
            "Categories and number of occurrences for 'skidding_and_overturning'\n",
            "no skidding or overturning                    19173\n",
            "at least one vehicle skidded or overturned     4551\n",
            "data missing or out of range                    563\n",
            "Name: skidding_and_overturning, dtype: int64\n",
            "\n",
            "Categories and number of occurrences for 'first_point_of_impact'\n",
            "at least one vehicle with frontal impact    18308\n",
            "other points of impact                       4630\n",
            "no impact                                    1003\n",
            "data missing or out of range                  346\n",
            "Name: first_point_of_impact, dtype: int64\n",
            "\n",
            "Categories and number of occurrences for 'sex_of_driver'\n",
            "all males                       13887\n",
            "male and female                  6119\n",
            "all females                      3680\n",
            "data missing or out of range      601\n",
            "Name: sex_of_driver, dtype: int64\n",
            "\n",
            "Categories and number of occurrences for 'accident_severity'\n",
            "slight     9559\n",
            "serious    9476\n",
            "fatal      5252\n",
            "Name: accident_severity, dtype: int64\n",
            "\n"
          ]
        }
      ]
    },
    {
      "cell_type": "code",
      "source": [
        "#Performing a pie plot that shows distribution of label\n",
        "counts = reduced_train_dataset['light_conditions'].value_counts()\n",
        "plt.pie(counts.values, labels=counts.index, autopct='%1.1f%%',startangle=90)\n",
        "plt.title('Light_conditions analysis for accident')\n",
        "plt.show()"
      ],
      "metadata": {
        "colab": {
          "base_uri": "https://localhost:8080/",
          "height": 428
        },
        "id": "EbQ1hfJa_xny",
        "outputId": "f731c9c0-9950-4ce1-a398-a64fdf4f5b28"
      },
      "execution_count": null,
      "outputs": [
        {
          "output_type": "display_data",
          "data": {
            "text/plain": [
              "<Figure size 640x480 with 1 Axes>"
            ],
            "image/png": "[encoded data removed]"
          },
          "metadata": {}
        }
      ]
    },
    {
      "cell_type": "markdown",
      "source": [
        "##2 Encoding for catgorical data"
      ],
      "metadata": {
        "id": "2jZZQbONd3C9"
      }
    },
    {
      "cell_type": "code",
      "source": [
        "# importing sklearn for encoding\n",
        "from sklearn import preprocessing\n",
        "\n",
        "#creating class for encoder\n",
        "# using label encoder fuction\n",
        "label_encoder = preprocessing.LabelEncoder()\n",
        "## transforming into numerical variable\n",
        "reduced_train_dataset['light_conditions']= label_encoder.fit_transform(reduced_train_dataset['light_conditions'])\n",
        "reduced_train_dataset['weather_conditions']= label_encoder.fit_transform(reduced_train_dataset['weather_conditions']) ## transforming into numerical variable\n",
        "reduced_train_dataset['road_surface_conditions']= label_encoder.fit_transform(reduced_train_dataset['road_surface_conditions']) ## transforming into numerical variable\n",
        "reduced_train_dataset['accident_severity']= label_encoder.fit_transform(reduced_train_dataset['accident_severity']) ## transforming into numerical variable\n",
        "reduced_train_dataset['vehicle_type']= label_encoder.fit_transform(reduced_train_dataset['vehicle_type']) ## transforming into numerical variable\n",
        "reduced_train_dataset['junction_location']= label_encoder.fit_transform(reduced_train_dataset['junction_location']) ## transforming into numerical variable\n",
        "reduced_train_dataset['skidding_and_overturning']= label_encoder.fit_transform(reduced_train_dataset['skidding_and_overturning']) ## transforming into numerical variable\n",
        "reduced_train_dataset['vehicle_leaving_carriageway']= label_encoder.fit_transform(reduced_train_dataset['vehicle_leaving_carriageway']) ## transforming into numerical variable\n",
        "reduced_train_dataset['hit_object_off_carriageway']= label_encoder.fit_transform(reduced_train_dataset['hit_object_off_carriageway']) ## transforming into numerical variable\n",
        "reduced_train_dataset['first_point_of_impact']= label_encoder.fit_transform(reduced_train_dataset['first_point_of_impact']) ## transforming into numerical variable\n",
        "reduced_train_dataset['sex_of_driver']= label_encoder.fit_transform(reduced_train_dataset['sex_of_driver']) ## transforming into numerical variable\n"
      ],
      "metadata": {
        "id": "ZatBCJHFfZFz"
      },
      "execution_count": null,
      "outputs": []
    },
    {
      "cell_type": "code",
      "source": [
        "reduced_train_dataset.head()"
      ],
      "metadata": {
        "colab": {
          "base_uri": "https://localhost:8080/",
          "height": 270
        },
        "id": "VCGHP5zrf--R",
        "outputId": "452485b7-4be8-4e0f-e7ea-3088de763fde"
      },
      "execution_count": null,
      "outputs": [
        {
          "output_type": "execute_result",
          "data": {
            "text/plain": [
              "  accident_index  speed_limit  light_conditions  weather_conditions  \\\n",
              "0  2019010225080           30                 0                   3   \n",
              "1  2019200908684           30                 0                   1   \n",
              "4  2019051911581           30                 1                   1   \n",
              "6  2019420894599           30                 0                   1   \n",
              "7  2019010162791           50                 1                   1   \n",
              "\n",
              "   road_surface_conditions  vehicle_type  junction_location  \\\n",
              "0                        4             1                  0   \n",
              "1                        1             4                  0   \n",
              "4                        1             4                  2   \n",
              "6                        4             4                  2   \n",
              "7                        1             4                  0   \n",
              "\n",
              "   skidding_and_overturning  vehicle_leaving_carriageway  \\\n",
              "0                         2                            2   \n",
              "1                         2                            0   \n",
              "4                         2                            2   \n",
              "6                         2                            2   \n",
              "7                         2                            2   \n",
              "\n",
              "   hit_object_off_carriageway  first_point_of_impact  sex_of_driver  \\\n",
              "0                           2                      3              1   \n",
              "1                           0                      0              1   \n",
              "4                           2                      0              0   \n",
              "6                           2                      0              1   \n",
              "7                           2                      0              1   \n",
              "\n",
              "   age_of_oldest_driver  accident_severity  \n",
              "0                  63.0                  1  \n",
              "1                  82.0                  0  \n",
              "4                  39.0                  2  \n",
              "6                  40.0                  0  \n",
              "7                  57.0                  2  "
            ],
            "text/html": [
              "\n",
              "  <div id=\"df-2310b36a-a36b-449d-a11f-ea414fcbb43b\">\n",
              "    <div class=\"colab-df-container\">\n",
              "      <div>\n",
              "<style scoped>\n",
              "    .dataframe tbody tr th:only-of-type {\n",
              "        vertical-align: middle;\n",
              "    }\n",
              "\n",
              "    .dataframe tbody tr th {\n",
              "        vertical-align: top;\n",
              "    }\n",
              "\n",
              "    .dataframe thead th {\n",
              "        text-align: right;\n",
              "    }\n",
              "</style>\n",
              "<table border=\"1\" class=\"dataframe\">\n",
              "  <thead>\n",
              "    <tr style=\"text-align: right;\">\n",
              "      <th></th>\n",
              "      <th>accident_index</th>\n",
              "      <th>speed_limit</th>\n",
              "      <th>light_conditions</th>\n",
              "      <th>weather_conditions</th>\n",
              "      <th>road_surface_conditions</th>\n",
              "      <th>vehicle_type</th>\n",
              "      <th>junction_location</th>\n",
              "      <th>skidding_and_overturning</th>\n",
              "      <th>vehicle_leaving_carriageway</th>\n",
              "      <th>hit_object_off_carriageway</th>\n",
              "      <th>first_point_of_impact</th>\n",
              "      <th>sex_of_driver</th>\n",
              "      <th>age_of_oldest_driver</th>\n",
              "      <th>accident_severity</th>\n",
              "    </tr>\n",
              "  </thead>\n",
              "  <tbody>\n",
              "    <tr>\n",
              "      <th>0</th>\n",
              "      <td>2019010225080</td>\n",
              "      <td>30</td>\n",
              "      <td>0</td>\n",
              "      <td>3</td>\n",
              "      <td>4</td>\n",
              "      <td>1</td>\n",
              "      <td>0</td>\n",
              "      <td>2</td>\n",
              "      <td>2</td>\n",
              "      <td>2</td>\n",
              "      <td>3</td>\n",
              "      <td>1</td>\n",
              "      <td>63.0</td>\n",
              "      <td>1</td>\n",
              "    </tr>\n",
              "    <tr>\n",
              "      <th>1</th>\n",
              "      <td>2019200908684</td>\n",
              "      <td>30</td>\n",
              "      <td>0</td>\n",
              "      <td>1</td>\n",
              "      <td>1</td>\n",
              "      <td>4</td>\n",
              "      <td>0</td>\n",
              "      <td>2</td>\n",
              "      <td>0</td>\n",
              "      <td>0</td>\n",
              "      <td>0</td>\n",
              "      <td>1</td>\n",
              "      <td>82.0</td>\n",
              "      <td>0</td>\n",
              "    </tr>\n",
              "    <tr>\n",
              "      <th>4</th>\n",
              "      <td>2019051911581</td>\n",
              "      <td>30</td>\n",
              "      <td>1</td>\n",
              "      <td>1</td>\n",
              "      <td>1</td>\n",
              "      <td>4</td>\n",
              "      <td>2</td>\n",
              "      <td>2</td>\n",
              "      <td>2</td>\n",
              "      <td>2</td>\n",
              "      <td>0</td>\n",
              "      <td>0</td>\n",
              "      <td>39.0</td>\n",
              "      <td>2</td>\n",
              "    </tr>\n",
              "    <tr>\n",
              "      <th>6</th>\n",
              "      <td>2019420894599</td>\n",
              "      <td>30</td>\n",
              "      <td>0</td>\n",
              "      <td>1</td>\n",
              "      <td>4</td>\n",
              "      <td>4</td>\n",
              "      <td>2</td>\n",
              "      <td>2</td>\n",
              "      <td>2</td>\n",
              "      <td>2</td>\n",
              "      <td>0</td>\n",
              "      <td>1</td>\n",
              "      <td>40.0</td>\n",
              "      <td>0</td>\n",
              "    </tr>\n",
              "    <tr>\n",
              "      <th>7</th>\n",
              "      <td>2019010162791</td>\n",
              "      <td>50</td>\n",
              "      <td>1</td>\n",
              "      <td>1</td>\n",
              "      <td>1</td>\n",
              "      <td>4</td>\n",
              "      <td>0</td>\n",
              "      <td>2</td>\n",
              "      <td>2</td>\n",
              "      <td>2</td>\n",
              "      <td>0</td>\n",
              "      <td>1</td>\n",
              "      <td>57.0</td>\n",
              "      <td>2</td>\n",
              "    </tr>\n",
              "  </tbody>\n",
              "</table>\n",
              "</div>\n",
              "      <button class=\"colab-df-convert\" onclick=\"convertToInteractive('df-2310b36a-a36b-449d-a11f-ea414fcbb43b')\"\n",
              "              title=\"Convert this dataframe to an interactive table.\"\n",
              "              style=\"display:none;\">\n",
              "        \n",
              "  <svg xmlns=\"http://www.w3.org/2000/svg\" height=\"24px\"viewBox=\"0 0 24 24\"\n",
              "       width=\"24px\">\n",
              "    <path d=\"M0 0h24v24H0V0z\" fill=\"none\"/>\n",
              "    <path d=\"M18.56 5.44l.94 2.06.94-2.06 2.06-.94-2.06-.94-.94-2.06-.94 2.06-2.06.94zm-11 1L8.5 8.5l.94-2.06 2.06-.94-2.06-.94L8.5 2.5l-.94 2.06-2.06.94zm10 10l.94 2.06.94-2.06 2.06-.94-2.06-.94-.94-2.06-.94 2.06-2.06.94z\"/><path d=\"M17.41 7.96l-1.37-1.37c-.4-.4-.92-.59-1.43-.59-.52 0-1.04.2-1.43.59L10.3 9.45l-7.72 7.72c-.78.78-.78 2.05 0 2.83L4 21.41c.39.39.9.59 1.41.59.51 0 1.02-.2 1.41-.59l7.78-7.78 2.81-2.81c.8-.78.8-2.07 0-2.86zM5.41 20L4 18.59l7.72-7.72 1.47 1.35L5.41 20z\"/>\n",
              "  </svg>\n",
              "      </button>\n",
              "      \n",
              "  <style>\n",
              "    .colab-df-container {\n",
              "      display:flex;\n",
              "      flex-wrap:wrap;\n",
              "      gap: 12px;\n",
              "    }\n",
              "\n",
              "    .colab-df-convert {\n",
              "      background-color: #E8F0FE;\n",
              "      border: none;\n",
              "      border-radius: 50%;\n",
              "      cursor: pointer;\n",
              "      display: none;\n",
              "      fill: #1967D2;\n",
              "      height: 32px;\n",
              "      padding: 0 0 0 0;\n",
              "      width: 32px;\n",
              "    }\n",
              "\n",
              "    .colab-df-convert:hover {\n",
              "      background-color: #E2EBFA;\n",
              "      box-shadow: 0px 1px 2px rgba(60, 64, 67, 0.3), 0px 1px 3px 1px rgba(60, 64, 67, 0.15);\n",
              "      fill: #174EA6;\n",
              "    }\n",
              "\n",
              "    [theme=dark] .colab-df-convert {\n",
              "      background-color: #3B4455;\n",
              "      fill: #D2E3FC;\n",
              "    }\n",
              "\n",
              "    [theme=dark] .colab-df-convert:hover {\n",
              "      background-color: #434B5C;\n",
              "      box-shadow: 0px 1px 3px 1px rgba(0, 0, 0, 0.15);\n",
              "      filter: drop-shadow(0px 1px 2px rgba(0, 0, 0, 0.3));\n",
              "      fill: #FFFFFF;\n",
              "    }\n",
              "  </style>\n",
              "\n",
              "      <script>\n",
              "        const buttonEl =\n",
              "          document.querySelector('#df-2310b36a-a36b-449d-a11f-ea414fcbb43b button.colab-df-convert');\n",
              "        buttonEl.style.display =\n",
              "          google.colab.kernel.accessAllowed ? 'block' : 'none';\n",
              "\n",
              "        async function convertToInteractive(key) {\n",
              "          const element = document.querySelector('#df-2310b36a-a36b-449d-a11f-ea414fcbb43b');\n",
              "          const dataTable =\n",
              "            await google.colab.kernel.invokeFunction('convertToInteractive',\n",
              "                                                     [key], {});\n",
              "          if (!dataTable) return;\n",
              "\n",
              "          const docLinkHtml = 'Like what you see? Visit the ' +\n",
              "            '<a target=\"_blank\" href=https://colab.research.google.com/notebooks/data_table.ipynb>data table notebook</a>'\n",
              "            + ' to learn more about interactive tables.';\n",
              "          element.innerHTML = '';\n",
              "          dataTable['output_type'] = 'display_data';\n",
              "          await google.colab.output.renderOutput(dataTable, element);\n",
              "          const docLink = document.createElement('div');\n",
              "          docLink.innerHTML = docLinkHtml;\n",
              "          element.appendChild(docLink);\n",
              "        }\n",
              "      </script>\n",
              "    </div>\n",
              "  </div>\n",
              "  "
            ]
          },
          "metadata": {},
          "execution_count": 14
        }
      ]
    },
    {
      "cell_type": "code",
      "source": [
        "print(reduced_train_dataset.dtypes)"
      ],
      "metadata": {
        "colab": {
          "base_uri": "https://localhost:8080/"
        },
        "id": "68rOWfyJhUVD",
        "outputId": "17add90f-c55d-4f92-ce84-d245c8136bd8"
      },
      "execution_count": null,
      "outputs": [
        {
          "output_type": "stream",
          "name": "stdout",
          "text": [
            "accident_index                  object\n",
            "speed_limit                      int64\n",
            "light_conditions                 int64\n",
            "weather_conditions               int64\n",
            "road_surface_conditions          int64\n",
            "vehicle_type                     int64\n",
            "junction_location                int64\n",
            "skidding_and_overturning         int64\n",
            "vehicle_leaving_carriageway      int64\n",
            "hit_object_off_carriageway       int64\n",
            "first_point_of_impact            int64\n",
            "sex_of_driver                    int64\n",
            "age_of_oldest_driver           float64\n",
            "accident_severity                int64\n",
            "dtype: object\n"
          ]
        }
      ]
    },
    {
      "cell_type": "code",
      "source": [
        "print(reduced_train_dataset.isnull().sum())"
      ],
      "metadata": {
        "colab": {
          "base_uri": "https://localhost:8080/"
        },
        "id": "z6p-Nrilh7qx",
        "outputId": "9862ac1d-b221-4d94-8b4d-5c4c8cc9e647"
      },
      "execution_count": null,
      "outputs": [
        {
          "output_type": "stream",
          "name": "stdout",
          "text": [
            "accident_index                 0\n",
            "speed_limit                    0\n",
            "light_conditions               0\n",
            "weather_conditions             0\n",
            "road_surface_conditions        0\n",
            "vehicle_type                   0\n",
            "junction_location              0\n",
            "skidding_and_overturning       0\n",
            "vehicle_leaving_carriageway    0\n",
            "hit_object_off_carriageway     0\n",
            "first_point_of_impact          0\n",
            "sex_of_driver                  0\n",
            "age_of_oldest_driver           0\n",
            "accident_severity              0\n",
            "dtype: int64\n"
          ]
        }
      ]
    },
    {
      "cell_type": "code",
      "source": [
        "sea.countplot(x='accident_severity', data=reduced_train_dataset)"
      ],
      "metadata": {
        "colab": {
          "base_uri": "https://localhost:8080/",
          "height": 472
        },
        "id": "tCCtVIq-iRMX",
        "outputId": "39a93e65-1cb1-421f-da8e-ac7192694fb7"
      },
      "execution_count": null,
      "outputs": [
        {
          "output_type": "execute_result",
          "data": {
            "text/plain": [
              "<Axes: xlabel='accident_severity', ylabel='count'>"
            ]
          },
          "metadata": {},
          "execution_count": 17
        },
        {
          "output_type": "display_data",
          "data": {
            "text/plain": [
              "<Figure size 640x480 with 1 Axes>"
            ],
            "image/png": "[encoded data removed]"
          },
          "metadata": {}
        }
      ]
    },
    {
      "cell_type": "code",
      "source": [
        "#Dropping unnecessary column\n",
        "cols_drop=['accident_index']\n",
        "reduced_train_dataset=reduced_train_dataset.drop(cols_drop,axis=1)"
      ],
      "metadata": {
        "id": "9uvDVGdUix3s"
      },
      "execution_count": null,
      "outputs": []
    },
    {
      "cell_type": "code",
      "source": [
        "reduced_train_dataset.head(10)"
      ],
      "metadata": {
        "colab": {
          "base_uri": "https://localhost:8080/",
          "height": 427
        },
        "id": "W1nD7wZUi2QC",
        "outputId": "7defdd8b-4a7b-4f66-bf37-a9859848acd3"
      },
      "execution_count": null,
      "outputs": [
        {
          "output_type": "execute_result",
          "data": {
            "text/plain": [
              "    speed_limit  light_conditions  weather_conditions  \\\n",
              "0            30                 0                   3   \n",
              "1            30                 0                   1   \n",
              "4            30                 1                   1   \n",
              "6            30                 0                   1   \n",
              "7            50                 1                   1   \n",
              "8            60                 1                   1   \n",
              "9            60                 1                   1   \n",
              "10           30                 1                   3   \n",
              "11           30                 1                   1   \n",
              "12           60                 1                   1   \n",
              "\n",
              "    road_surface_conditions  vehicle_type  junction_location  \\\n",
              "0                         4             1                  0   \n",
              "1                         1             4                  0   \n",
              "4                         1             4                  2   \n",
              "6                         4             4                  2   \n",
              "7                         1             4                  0   \n",
              "8                         1             1                  0   \n",
              "9                         1             4                  2   \n",
              "10                        4             1                  0   \n",
              "11                        1             1                  2   \n",
              "12                        1             0                  2   \n",
              "\n",
              "    skidding_and_overturning  vehicle_leaving_carriageway  \\\n",
              "0                          2                            2   \n",
              "1                          2                            0   \n",
              "4                          2                            2   \n",
              "6                          2                            2   \n",
              "7                          2                            2   \n",
              "8                          2                            2   \n",
              "9                          2                            0   \n",
              "10                         2                            2   \n",
              "11                         0                            0   \n",
              "12                         2                            2   \n",
              "\n",
              "    hit_object_off_carriageway  first_point_of_impact  sex_of_driver  \\\n",
              "0                            2                      3              1   \n",
              "1                            0                      0              1   \n",
              "4                            2                      0              0   \n",
              "6                            2                      0              1   \n",
              "7                            2                      0              1   \n",
              "8                            2                      0              1   \n",
              "9                            0                      0              3   \n",
              "10                           2                      0              1   \n",
              "11                           0                      0              1   \n",
              "12                           2                      0              1   \n",
              "\n",
              "    age_of_oldest_driver  accident_severity  \n",
              "0                   63.0                  1  \n",
              "1                   82.0                  0  \n",
              "4                   39.0                  2  \n",
              "6                   40.0                  0  \n",
              "7                   57.0                  2  \n",
              "8                   57.0                  0  \n",
              "9                   60.0                  0  \n",
              "10                  46.0                  2  \n",
              "11                  47.0                  0  \n",
              "12                  45.0                  1  "
            ],
            "text/html": [
              "\n",
              "  <div id=\"df-9e588320-aaae-4d32-b01a-24d7abf94a9f\">\n",
              "    <div class=\"colab-df-container\">\n",
              "      <div>\n",
              "<style scoped>\n",
              "    .dataframe tbody tr th:only-of-type {\n",
              "        vertical-align: middle;\n",
              "    }\n",
              "\n",
              "    .dataframe tbody tr th {\n",
              "        vertical-align: top;\n",
              "    }\n",
              "\n",
              "    .dataframe thead th {\n",
              "        text-align: right;\n",
              "    }\n",
              "</style>\n",
              "<table border=\"1\" class=\"dataframe\">\n",
              "  <thead>\n",
              "    <tr style=\"text-align: right;\">\n",
              "      <th></th>\n",
              "      <th>speed_limit</th>\n",
              "      <th>light_conditions</th>\n",
              "      <th>weather_conditions</th>\n",
              "      <th>road_surface_conditions</th>\n",
              "      <th>vehicle_type</th>\n",
              "      <th>junction_location</th>\n",
              "      <th>skidding_and_overturning</th>\n",
              "      <th>vehicle_leaving_carriageway</th>\n",
              "      <th>hit_object_off_carriageway</th>\n",
              "      <th>first_point_of_impact</th>\n",
              "      <th>sex_of_driver</th>\n",
              "      <th>age_of_oldest_driver</th>\n",
              "      <th>accident_severity</th>\n",
              "    </tr>\n",
              "  </thead>\n",
              "  <tbody>\n",
              "    <tr>\n",
              "      <th>0</th>\n",
              "      <td>30</td>\n",
              "      <td>0</td>\n",
              "      <td>3</td>\n",
              "      <td>4</td>\n",
              "      <td>1</td>\n",
              "      <td>0</td>\n",
              "      <td>2</td>\n",
              "      <td>2</td>\n",
              "      <td>2</td>\n",
              "      <td>3</td>\n",
              "      <td>1</td>\n",
              "      <td>63.0</td>\n",
              "      <td>1</td>\n",
              "    </tr>\n",
              "    <tr>\n",
              "      <th>1</th>\n",
              "      <td>30</td>\n",
              "      <td>0</td>\n",
              "      <td>1</td>\n",
              "      <td>1</td>\n",
              "      <td>4</td>\n",
              "      <td>0</td>\n",
              "      <td>2</td>\n",
              "      <td>0</td>\n",
              "      <td>0</td>\n",
              "      <td>0</td>\n",
              "      <td>1</td>\n",
              "      <td>82.0</td>\n",
              "      <td>0</td>\n",
              "    </tr>\n",
              "    <tr>\n",
              "      <th>4</th>\n",
              "      <td>30</td>\n",
              "      <td>1</td>\n",
              "      <td>1</td>\n",
              "      <td>1</td>\n",
              "      <td>4</td>\n",
              "      <td>2</td>\n",
              "      <td>2</td>\n",
              "      <td>2</td>\n",
              "      <td>2</td>\n",
              "      <td>0</td>\n",
              "      <td>0</td>\n",
              "      <td>39.0</td>\n",
              "      <td>2</td>\n",
              "    </tr>\n",
              "    <tr>\n",
              "      <th>6</th>\n",
              "      <td>30</td>\n",
              "      <td>0</td>\n",
              "      <td>1</td>\n",
              "      <td>4</td>\n",
              "      <td>4</td>\n",
              "      <td>2</td>\n",
              "      <td>2</td>\n",
              "      <td>2</td>\n",
              "      <td>2</td>\n",
              "      <td>0</td>\n",
              "      <td>1</td>\n",
              "      <td>40.0</td>\n",
              "      <td>0</td>\n",
              "    </tr>\n",
              "    <tr>\n",
              "      <th>7</th>\n",
              "      <td>50</td>\n",
              "      <td>1</td>\n",
              "      <td>1</td>\n",
              "      <td>1</td>\n",
              "      <td>4</td>\n",
              "      <td>0</td>\n",
              "      <td>2</td>\n",
              "      <td>2</td>\n",
              "      <td>2</td>\n",
              "      <td>0</td>\n",
              "      <td>1</td>\n",
              "      <td>57.0</td>\n",
              "      <td>2</td>\n",
              "    </tr>\n",
              "    <tr>\n",
              "      <th>8</th>\n",
              "      <td>60</td>\n",
              "      <td>1</td>\n",
              "      <td>1</td>\n",
              "      <td>1</td>\n",
              "      <td>1</td>\n",
              "      <td>0</td>\n",
              "      <td>2</td>\n",
              "      <td>2</td>\n",
              "      <td>2</td>\n",
              "      <td>0</td>\n",
              "      <td>1</td>\n",
              "      <td>57.0</td>\n",
              "      <td>0</td>\n",
              "    </tr>\n",
              "    <tr>\n",
              "      <th>9</th>\n",
              "      <td>60</td>\n",
              "      <td>1</td>\n",
              "      <td>1</td>\n",
              "      <td>1</td>\n",
              "      <td>4</td>\n",
              "      <td>2</td>\n",
              "      <td>2</td>\n",
              "      <td>0</td>\n",
              "      <td>0</td>\n",
              "      <td>0</td>\n",
              "      <td>3</td>\n",
              "      <td>60.0</td>\n",
              "      <td>0</td>\n",
              "    </tr>\n",
              "    <tr>\n",
              "      <th>10</th>\n",
              "      <td>30</td>\n",
              "      <td>1</td>\n",
              "      <td>3</td>\n",
              "      <td>4</td>\n",
              "      <td>1</td>\n",
              "      <td>0</td>\n",
              "      <td>2</td>\n",
              "      <td>2</td>\n",
              "      <td>2</td>\n",
              "      <td>0</td>\n",
              "      <td>1</td>\n",
              "      <td>46.0</td>\n",
              "      <td>2</td>\n",
              "    </tr>\n",
              "    <tr>\n",
              "      <th>11</th>\n",
              "      <td>30</td>\n",
              "      <td>1</td>\n",
              "      <td>1</td>\n",
              "      <td>1</td>\n",
              "      <td>1</td>\n",
              "      <td>2</td>\n",
              "      <td>0</td>\n",
              "      <td>0</td>\n",
              "      <td>0</td>\n",
              "      <td>0</td>\n",
              "      <td>1</td>\n",
              "      <td>47.0</td>\n",
              "      <td>0</td>\n",
              "    </tr>\n",
              "    <tr>\n",
              "      <th>12</th>\n",
              "      <td>60</td>\n",
              "      <td>1</td>\n",
              "      <td>1</td>\n",
              "      <td>1</td>\n",
              "      <td>0</td>\n",
              "      <td>2</td>\n",
              "      <td>2</td>\n",
              "      <td>2</td>\n",
              "      <td>2</td>\n",
              "      <td>0</td>\n",
              "      <td>1</td>\n",
              "      <td>45.0</td>\n",
              "      <td>1</td>\n",
              "    </tr>\n",
              "  </tbody>\n",
              "</table>\n",
              "</div>\n",
              "      <button class=\"colab-df-convert\" onclick=\"convertToInteractive('df-9e588320-aaae-4d32-b01a-24d7abf94a9f')\"\n",
              "              title=\"Convert this dataframe to an interactive table.\"\n",
              "              style=\"display:none;\">\n",
              "        \n",
              "  <svg xmlns=\"http://www.w3.org/2000/svg\" height=\"24px\"viewBox=\"0 0 24 24\"\n",
              "       width=\"24px\">\n",
              "    <path d=\"M0 0h24v24H0V0z\" fill=\"none\"/>\n",
              "    <path d=\"M18.56 5.44l.94 2.06.94-2.06 2.06-.94-2.06-.94-.94-2.06-.94 2.06-2.06.94zm-11 1L8.5 8.5l.94-2.06 2.06-.94-2.06-.94L8.5 2.5l-.94 2.06-2.06.94zm10 10l.94 2.06.94-2.06 2.06-.94-2.06-.94-.94-2.06-.94 2.06-2.06.94z\"/><path d=\"M17.41 7.96l-1.37-1.37c-.4-.4-.92-.59-1.43-.59-.52 0-1.04.2-1.43.59L10.3 9.45l-7.72 7.72c-.78.78-.78 2.05 0 2.83L4 21.41c.39.39.9.59 1.41.59.51 0 1.02-.2 1.41-.59l7.78-7.78 2.81-2.81c.8-.78.8-2.07 0-2.86zM5.41 20L4 18.59l7.72-7.72 1.47 1.35L5.41 20z\"/>\n",
              "  </svg>\n",
              "      </button>\n",
              "      \n",
              "  <style>\n",
              "    .colab-df-container {\n",
              "      display:flex;\n",
              "      flex-wrap:wrap;\n",
              "      gap: 12px;\n",
              "    }\n",
              "\n",
              "    .colab-df-convert {\n",
              "      background-color: #E8F0FE;\n",
              "      border: none;\n",
              "      border-radius: 50%;\n",
              "      cursor: pointer;\n",
              "      display: none;\n",
              "      fill: #1967D2;\n",
              "      height: 32px;\n",
              "      padding: 0 0 0 0;\n",
              "      width: 32px;\n",
              "    }\n",
              "\n",
              "    .colab-df-convert:hover {\n",
              "      background-color: #E2EBFA;\n",
              "      box-shadow: 0px 1px 2px rgba(60, 64, 67, 0.3), 0px 1px 3px 1px rgba(60, 64, 67, 0.15);\n",
              "      fill: #174EA6;\n",
              "    }\n",
              "\n",
              "    [theme=dark] .colab-df-convert {\n",
              "      background-color: #3B4455;\n",
              "      fill: #D2E3FC;\n",
              "    }\n",
              "\n",
              "    [theme=dark] .colab-df-convert:hover {\n",
              "      background-color: #434B5C;\n",
              "      box-shadow: 0px 1px 3px 1px rgba(0, 0, 0, 0.15);\n",
              "      filter: drop-shadow(0px 1px 2px rgba(0, 0, 0, 0.3));\n",
              "      fill: #FFFFFF;\n",
              "    }\n",
              "  </style>\n",
              "\n",
              "      <script>\n",
              "        const buttonEl =\n",
              "          document.querySelector('#df-9e588320-aaae-4d32-b01a-24d7abf94a9f button.colab-df-convert');\n",
              "        buttonEl.style.display =\n",
              "          google.colab.kernel.accessAllowed ? 'block' : 'none';\n",
              "\n",
              "        async function convertToInteractive(key) {\n",
              "          const element = document.querySelector('#df-9e588320-aaae-4d32-b01a-24d7abf94a9f');\n",
              "          const dataTable =\n",
              "            await google.colab.kernel.invokeFunction('convertToInteractive',\n",
              "                                                     [key], {});\n",
              "          if (!dataTable) return;\n",
              "\n",
              "          const docLinkHtml = 'Like what you see? Visit the ' +\n",
              "            '<a target=\"_blank\" href=https://colab.research.google.com/notebooks/data_table.ipynb>data table notebook</a>'\n",
              "            + ' to learn more about interactive tables.';\n",
              "          element.innerHTML = '';\n",
              "          dataTable['output_type'] = 'display_data';\n",
              "          await google.colab.output.renderOutput(dataTable, element);\n",
              "          const docLink = document.createElement('div');\n",
              "          docLink.innerHTML = docLinkHtml;\n",
              "          element.appendChild(docLink);\n",
              "        }\n",
              "      </script>\n",
              "    </div>\n",
              "  </div>\n",
              "  "
            ]
          },
          "metadata": {},
          "execution_count": 19
        }
      ]
    },
    {
      "cell_type": "code",
      "source": [
        "corr_matrix = reduced_train_dataset.corr()\n",
        "plt.figure(figsize=(10, 8))\n",
        "sea.heatmap(corr_matrix, annot=True, cmap='coolwarm')\n",
        "plt.title('Correlation Matrix')\n",
        "plt.show()\n"
      ],
      "metadata": {
        "colab": {
          "base_uri": "https://localhost:8080/",
          "height": 884
        },
        "id": "a0WzhEgDheOA",
        "outputId": "5ee37f29-8295-41e8-b303-ce0ea6f735a3"
      },
      "execution_count": null,
      "outputs": [
        {
          "output_type": "display_data",
          "data": {
            "text/plain": [
              "<Figure size 1000x800 with 2 Axes>"
            ],
            "image/png": "[encoded data removed]"
          },
          "metadata": {}
        }
      ]
    },
    {
      "cell_type": "code",
      "source": [
        "X = reduced_train_dataset.drop([\"accident_severity\"], axis=1)\n",
        "Y = reduced_train_dataset[\"accident_severity\"] ## separating independent and dependent variables\n"
      ],
      "metadata": {
        "id": "s0bmhJCejjZW"
      },
      "execution_count": null,
      "outputs": []
    },
    {
      "cell_type": "markdown",
      "source": [
        "##3 Spliting dataset for training, testing usking sklearn"
      ],
      "metadata": {
        "id": "hbTlLgkej9_Z"
      }
    },
    {
      "cell_type": "code",
      "source": [
        "from sklearn.model_selection import train_test_split\n",
        "from sklearn import preprocessing"
      ],
      "metadata": {
        "id": "sDTjyRvAkFa2"
      },
      "execution_count": null,
      "outputs": []
    },
    {
      "cell_type": "code",
      "source": [
        "## train test splitting\n",
        "X_train, X_test, Y_train, Y_test=train_test_split(X,Y,test_size=0.3, random_state=0)"
      ],
      "metadata": {
        "id": "Yr9Qy1mmkK5d"
      },
      "execution_count": null,
      "outputs": []
    },
    {
      "cell_type": "markdown",
      "source": [
        "##4 Implementing ML algoritham for predicting accident severity\n",
        "\n"
      ],
      "metadata": {
        "id": "NzsV_UWPkQGL"
      }
    },
    {
      "cell_type": "markdown",
      "source": [
        "##4.1 Random Forest"
      ],
      "metadata": {
        "id": "fgOKwKLvluYS"
      }
    },
    {
      "cell_type": "code",
      "source": [
        "from sklearn.model_selection import train_test_split\n",
        "from sklearn.ensemble import RandomForestClassifier\n",
        "from sklearn.metrics import classification_report, confusion_matrix\n",
        "# Train a random forest classifier\n",
        "rm = RandomForestClassifier(n_estimators=100, random_state=42)\n",
        "rm.fit(X_train, Y_train)\n",
        "\n",
        "# Evaluate the classifier on the test set\n",
        "y_pred = rm.predict(X_test)\n",
        "\n",
        "# Calculating the classifier accuracy\n",
        "rm_accuracy = accuracy_score(Y_test, y_pred)\n",
        "print(classification_report(Y_test, y_pred))\n",
        "print(confusion_matrix(Y_test, y_pred))"
      ],
      "metadata": {
        "colab": {
          "base_uri": "https://localhost:8080/"
        },
        "id": "wT5PpQv7m8Bw",
        "outputId": "3239ef8f-760f-4da0-d729-1143c921a134"
      },
      "execution_count": null,
      "outputs": [
        {
          "output_type": "stream",
          "name": "stdout",
          "text": [
            "              precision    recall  f1-score   support\n",
            "\n",
            "           0       0.65      0.69      0.67      1609\n",
            "           1       0.72      0.72      0.72      2829\n",
            "           2       0.77      0.74      0.75      2849\n",
            "\n",
            "    accuracy                           0.72      7287\n",
            "   macro avg       0.71      0.72      0.71      7287\n",
            "weighted avg       0.72      0.72      0.72      7287\n",
            "\n",
            "[[1118  297  194]\n",
            " [ 354 2026  449]\n",
            " [ 248  490 2111]]\n"
          ]
        }
      ]
    },
    {
      "cell_type": "markdown",
      "source": [
        "##4.2 Decision tree"
      ],
      "metadata": {
        "id": "UciunyJpmYl2"
      }
    },
    {
      "cell_type": "code",
      "source": [
        "from sklearn.tree import DecisionTreeClassifier\n",
        "from sklearn.model_selection import train_test_split\n",
        "from sklearn.metrics import accuracy_score"
      ],
      "metadata": {
        "id": "VuQAaIfxkW5s"
      },
      "execution_count": null,
      "outputs": []
    },
    {
      "cell_type": "code",
      "source": [
        "# Creating a decision tree classifier\n",
        "clf = DecisionTreeClassifier(random_state=42)"
      ],
      "metadata": {
        "id": "WPD6ondkkboC"
      },
      "execution_count": null,
      "outputs": []
    },
    {
      "cell_type": "code",
      "source": [
        "# Training the following classifier on the particular training data\n",
        "clf.fit(X_train, Y_train)"
      ],
      "metadata": {
        "colab": {
          "base_uri": "https://localhost:8080/",
          "height": 75
        },
        "id": "g6GK7Etakehc",
        "outputId": "797db335-6e20-4a98-e9b0-575aace79fc9"
      },
      "execution_count": null,
      "outputs": [
        {
          "output_type": "execute_result",
          "data": {
            "text/plain": [
              "DecisionTreeClassifier(random_state=42)"
            ],
            "text/html": [
              "<style>#sk-container-id-1 {color: black;background-color: white;}#sk-container-id-1 pre{padding: 0;}#sk-container-id-1 div.sk-toggleable {background-color: white;}#sk-container-id-1 label.sk-toggleable__label {cursor: pointer;display: block;width: 100%;margin-bottom: 0;padding: 0.3em;box-sizing: border-box;text-align: center;}#sk-container-id-1 label.sk-toggleable__label-arrow:before {content: \"▸\";float: left;margin-right: 0.25em;color: #696969;}#sk-container-id-1 label.sk-toggleable__label-arrow:hover:before {color: black;}#sk-container-id-1 div.sk-estimator:hover label.sk-toggleable__label-arrow:before {color: black;}#sk-container-id-1 div.sk-toggleable__content {max-height: 0;max-width: 0;overflow: hidden;text-align: left;background-color: #f0f8ff;}#sk-container-id-1 div.sk-toggleable__content pre {margin: 0.2em;color: black;border-radius: 0.25em;background-color: #f0f8ff;}#sk-container-id-1 input.sk-toggleable__control:checked~div.sk-toggleable__content {max-height: 200px;max-width: 100%;overflow: auto;}#sk-container-id-1 input.sk-toggleable__control:checked~label.sk-toggleable__label-arrow:before {content: \"▾\";}#sk-container-id-1 div.sk-estimator input.sk-toggleable__control:checked~label.sk-toggleable__label {background-color: #d4ebff;}#sk-container-id-1 div.sk-label input.sk-toggleable__control:checked~label.sk-toggleable__label {background-color: #d4ebff;}#sk-container-id-1 input.sk-hidden--visually {border: 0;clip: rect(1px 1px 1px 1px);clip: rect(1px, 1px, 1px, 1px);height: 1px;margin: -1px;overflow: hidden;padding: 0;position: absolute;width: 1px;}#sk-container-id-1 div.sk-estimator {font-family: monospace;background-color: #f0f8ff;border: 1px dotted black;border-radius: 0.25em;box-sizing: border-box;margin-bottom: 0.5em;}#sk-container-id-1 div.sk-estimator:hover {background-color: #d4ebff;}#sk-container-id-1 div.sk-parallel-item::after {content: \"\";width: 100%;border-bottom: 1px solid gray;flex-grow: 1;}#sk-container-id-1 div.sk-label:hover label.sk-toggleable__label {background-color: #d4ebff;}#sk-container-id-1 div.sk-serial::before {content: \"\";position: absolute;border-left: 1px solid gray;box-sizing: border-box;top: 0;bottom: 0;left: 50%;z-index: 0;}#sk-container-id-1 div.sk-serial {display: flex;flex-direction: column;align-items: center;background-color: white;padding-right: 0.2em;padding-left: 0.2em;position: relative;}#sk-container-id-1 div.sk-item {position: relative;z-index: 1;}#sk-container-id-1 div.sk-parallel {display: flex;align-items: stretch;justify-content: center;background-color: white;position: relative;}#sk-container-id-1 div.sk-item::before, #sk-container-id-1 div.sk-parallel-item::before {content: \"\";position: absolute;border-left: 1px solid gray;box-sizing: border-box;top: 0;bottom: 0;left: 50%;z-index: -1;}#sk-container-id-1 div.sk-parallel-item {display: flex;flex-direction: column;z-index: 1;position: relative;background-color: white;}#sk-container-id-1 div.sk-parallel-item:first-child::after {align-self: flex-end;width: 50%;}#sk-container-id-1 div.sk-parallel-item:last-child::after {align-self: flex-start;width: 50%;}#sk-container-id-1 div.sk-parallel-item:only-child::after {width: 0;}#sk-container-id-1 div.sk-dashed-wrapped {border: 1px dashed gray;margin: 0 0.4em 0.5em 0.4em;box-sizing: border-box;padding-bottom: 0.4em;background-color: white;}#sk-container-id-1 div.sk-label label {font-family: monospace;font-weight: bold;display: inline-block;line-height: 1.2em;}#sk-container-id-1 div.sk-label-container {text-align: center;}#sk-container-id-1 div.sk-container {/* jupyter's `normalize.less` sets `[hidden] { display: none; }` but bootstrap.min.css set `[hidden] { display: none !important; }` so we also need the `!important` here to be able to override the default hidden behavior on the sphinx rendered scikit-learn.org. See: https://github.com/scikit-learn/scikit-learn/issues/21755 */display: inline-block !important;position: relative;}#sk-container-id-1 div.sk-text-repr-fallback {display: none;}</style><div id=\"sk-container-id-1\" class=\"sk-top-container\"><div class=\"sk-text-repr-fallback\"><pre>DecisionTreeClassifier(random_state=42)</pre><b>In a Jupyter environment, please rerun this cell to show the HTML representation or trust the notebook. <br />On GitHub, the HTML representation is unable to render, please try loading this page with nbviewer.org.</b></div><div class=\"sk-container\" hidden><div class=\"sk-item\"><div class=\"sk-estimator sk-toggleable\"><input class=\"sk-toggleable__control sk-hidden--visually\" id=\"sk-estimator-id-1\" type=\"checkbox\" checked><label for=\"sk-estimator-id-1\" class=\"sk-toggleable__label sk-toggleable__label-arrow\">DecisionTreeClassifier</label><div class=\"sk-toggleable__content\"><pre>DecisionTreeClassifier(random_state=42)</pre></div></div></div></div></div>"
            ]
          },
          "metadata": {},
          "execution_count": 27
        }
      ]
    },
    {
      "cell_type": "code",
      "source": [
        "# Predicting the classes of the respecting testing data\n",
        "y_pred = clf.predict(X_test)"
      ],
      "metadata": {
        "id": "cPGL_Q0_khRA"
      },
      "execution_count": null,
      "outputs": []
    },
    {
      "cell_type": "code",
      "source": [
        "# Calculating the classifier accuracy\n",
        "tree_accuracy = accuracy_score(Y_test, y_pred)"
      ],
      "metadata": {
        "id": "IVEBRlgOkkJx"
      },
      "execution_count": null,
      "outputs": []
    },
    {
      "cell_type": "code",
      "source": [
        "# Printing the classifier accuracy\n",
        "print(\"Accuracy:\", tree_accuracy)"
      ],
      "metadata": {
        "colab": {
          "base_uri": "https://localhost:8080/"
        },
        "id": "JBkpQgAnknLG",
        "outputId": "2658c838-47cf-43a6-aeb9-05f5b8d7af09"
      },
      "execution_count": null,
      "outputs": [
        {
          "output_type": "stream",
          "name": "stdout",
          "text": [
            "Accuracy: 0.6816248113078084\n"
          ]
        }
      ]
    },
    {
      "cell_type": "code",
      "source": [
        "from sklearn.metrics import confusion_matrix"
      ],
      "metadata": {
        "id": "dyzvll5Zkp1K"
      },
      "execution_count": null,
      "outputs": []
    },
    {
      "cell_type": "code",
      "source": [
        "# Creating the following confusion matrix\n",
        "cm = confusion_matrix(Y_test, y_pred)"
      ],
      "metadata": {
        "id": "kCgQbrwpksJE"
      },
      "execution_count": null,
      "outputs": []
    },
    {
      "cell_type": "code",
      "source": [
        "# Printing the respective confusion matrix\n",
        "print(cm)"
      ],
      "metadata": {
        "colab": {
          "base_uri": "https://localhost:8080/"
        },
        "id": "ru65dLE3k_IX",
        "outputId": "d447c72c-681e-456c-c429-68f80db9b1bf"
      },
      "execution_count": null,
      "outputs": [
        {
          "output_type": "stream",
          "name": "stdout",
          "text": [
            "[[ 967  372  270]\n",
            " [ 344 2013  472]\n",
            " [ 242  620 1987]]\n"
          ]
        }
      ]
    },
    {
      "cell_type": "code",
      "source": [
        "from sklearn.metrics import f1_score\n",
        "\n",
        "# Calculating the respective F1 score of the following classifier\n",
        "f1_score = f1_score(Y_test, y_pred, average='weighted')\n",
        "\n",
        "# Printing the respective F1 score of the following classifier\n",
        "print(\"F1 score:\", f1_score)\n",
        "\n",
        "print(classification_report(Y_test, y_pred))\n",
        "print(confusion_matrix(Y_test, y_pred))"
      ],
      "metadata": {
        "colab": {
          "base_uri": "https://localhost:8080/"
        },
        "id": "_Jkeu4-HlCCU",
        "outputId": "3efea839-1858-4bff-d3f1-80e1c4240381"
      },
      "execution_count": null,
      "outputs": [
        {
          "output_type": "stream",
          "name": "stdout",
          "text": [
            "F1 score: 0.6815073731949012\n",
            "              precision    recall  f1-score   support\n",
            "\n",
            "           0       0.62      0.60      0.61      1609\n",
            "           1       0.67      0.71      0.69      2829\n",
            "           2       0.73      0.70      0.71      2849\n",
            "\n",
            "    accuracy                           0.68      7287\n",
            "   macro avg       0.67      0.67      0.67      7287\n",
            "weighted avg       0.68      0.68      0.68      7287\n",
            "\n",
            "[[ 967  372  270]\n",
            " [ 344 2013  472]\n",
            " [ 242  620 1987]]\n"
          ]
        }
      ]
    },
    {
      "cell_type": "markdown",
      "source": [
        "##4.3Dummy classifier"
      ],
      "metadata": {
        "id": "CH2DhWQClG-F"
      }
    },
    {
      "cell_type": "code",
      "source": [
        "from sklearn.dummy import DummyClassifier\n",
        "\n",
        "# Creating a following dummy classifier that can predict the most frequent class\n",
        "dummy = DummyClassifier(strategy='most_frequent')\n",
        "\n",
        "# Training the respective dummy classifier on the following training data\n",
        "dummy.fit(X_train, Y_train)\n",
        "\n",
        "# Predicting the respective classes of the following testing data utilising the dummy classifier\n",
        "y_pred_dummy = dummy.predict(X_test)\n",
        "\n",
        "# Evaluating the specific accuracy of the following dummy classifier\n",
        "accuracy_dummy = accuracy_score(Y_test, y_pred_dummy)\n",
        "\n",
        "# Evaluating the specific accuracy of the following decision tree classifier\n",
        "dummay_accuracy = accuracy_score(Y_test, y_pred)\n",
        "\n",
        "# Printing the specific accuracy of the following dummy classifier and also the decision tree classifier\n",
        "print(\"Accuracy of Dummy classifier :\", accuracy_dummy)\n",
        "print(\"Accuracy of Decision tree classifier :\", tree_accuracy)"
      ],
      "metadata": {
        "colab": {
          "base_uri": "https://localhost:8080/"
        },
        "id": "SYftawGElJJu",
        "outputId": "64432e52-4341-4373-c590-c46da1e83360"
      },
      "execution_count": null,
      "outputs": [
        {
          "output_type": "stream",
          "name": "stdout",
          "text": [
            "Accuracy of Dummy classifier : 0.3909702209414025\n",
            "Accuracy of Decision tree classifier : 0.6816248113078084\n"
          ]
        }
      ]
    },
    {
      "cell_type": "markdown",
      "source": [
        "##4.4 KNN"
      ],
      "metadata": {
        "id": "edQ-YB1E4Fek"
      }
    },
    {
      "cell_type": "code",
      "source": [
        "from sklearn.neighbors import KNeighborsClassifier\n",
        "from sklearn.metrics import classification_report\n",
        "\n",
        "# Splitting dataset into training and testing sets\n",
        "X_train, X_test, Y_train, Y_test=train_test_split(X,Y,test_size=0.3, random_state=42)\n",
        "# Creating KNN model with k=5\n",
        "knn = KNeighborsClassifier(n_neighbors=5)\n",
        "\n",
        "# Training the model on the training set\n",
        "knn.fit(X_train, Y_train)\n",
        "\n",
        "# Predicting the labels for testing set\n",
        "Y_pred = knn.predict(X_test)\n",
        "\n",
        "KNN_accuracy = accuracy_score(Y_test, y_pred)\n",
        "\n",
        "# Printing the classification report\n",
        "print(classification_report(Y_test, Y_pred))"
      ],
      "metadata": {
        "colab": {
          "base_uri": "https://localhost:8080/"
        },
        "id": "THB5TErCoXXa",
        "outputId": "6f4a3080-622e-4319-df39-48924b1b65b0"
      },
      "execution_count": null,
      "outputs": [
        {
          "output_type": "stream",
          "name": "stdout",
          "text": [
            "              precision    recall  f1-score   support\n",
            "\n",
            "           0       0.58      0.59      0.58      1558\n",
            "           1       0.67      0.69      0.68      2824\n",
            "           2       0.71      0.67      0.69      2905\n",
            "\n",
            "    accuracy                           0.66      7287\n",
            "   macro avg       0.65      0.65      0.65      7287\n",
            "weighted avg       0.67      0.66      0.66      7287\n",
            "\n"
          ]
        }
      ]
    },
    {
      "cell_type": "markdown",
      "source": [
        "##5 Implementing NN approch to check performance of model"
      ],
      "metadata": {
        "id": "jxXmV7ldlNum"
      }
    },
    {
      "cell_type": "code",
      "source": [
        "import tensorflow as tf ## importing tensorflow\n",
        "from tensorflow import keras"
      ],
      "metadata": {
        "id": "Z9ebgFttlNbr"
      },
      "execution_count": null,
      "outputs": []
    },
    {
      "cell_type": "code",
      "source": [
        "model = keras.models.Sequential()\n",
        "# Adding the input layer and first hidden layer\n",
        "model.add(keras.layers.Dense(units=128, activation='relu', input_shape=X_train.shape))\n",
        "# Adding the second hidden layer\n",
        "model.add(keras.layers.Dense(units=64, activation='relu'))\n",
        "# Adding the third hidden layer\n",
        "model.add(keras.layers.Dense(units=32, activation='relu'))\n",
        "# Adding the Fourth hidden layer\n",
        "model.add(keras.layers.Dense(units=16, activation='relu'))\n",
        "# Adding the fifth hidden layer\n",
        "model.add(keras.layers.Dense(units=8, activation='relu'))\n",
        "# Adding the six  hidden layer\n",
        "model.add(keras.layers.Dense(units=4, activation='relu'))\n",
        "# Adding the seven layer\n",
        "model.add(keras.layers.Dense(units=1, activation='sigmoid'))\n",
        "\n",
        "# Compiling the model\n",
        "model.compile(optimizer='adam', loss='binary_crossentropy', metrics=['accuracy'])"
      ],
      "metadata": {
        "id": "BkCn47Mulb5v"
      },
      "execution_count": null,
      "outputs": []
    },
    {
      "cell_type": "code",
      "source": [
        "from sklearn.neural_network import MLPClassifier # importing MLPclassifier\n",
        "# Train an ANN classifier with 5 hidden layers\n",
        "clf = MLPClassifier(hidden_layer_sizes=(5, 5, 5))\n",
        "clf.fit(X_train, Y_train) ##fitting the model\n",
        "# Predicting on the test set\n",
        "y_pred = clf.predict(X_test)\n",
        "\n",
        "# Calculating accuracy\n",
        "neural_accuracy = accuracy_score(Y_test, y_pred)\n",
        "\n",
        "print(\"Accuracy of Neural network:\", neural_accuracy) ## accuracy of neural network"
      ],
      "metadata": {
        "colab": {
          "base_uri": "https://localhost:8080/"
        },
        "id": "5QYnY-XmlfSo",
        "outputId": "15b39818-e695-498d-fae7-298320726691"
      },
      "execution_count": null,
      "outputs": [
        {
          "output_type": "stream",
          "name": "stdout",
          "text": [
            "Accuracy of Neural network: 0.7421435432962811\n"
          ]
        }
      ]
    },
    {
      "cell_type": "code",
      "source": [
        "comparison = pd.DataFrame({'Model': ['Decision Tree Classifier',\n",
        "                                    'Dummy Classifier',\n",
        "                                   'Neural Network','Random Forest'], # setting all of the models\n",
        "                        'Accuracy': [tree_accuracy*100, accuracy_dummy*100, #selecting the accuracy rat\n",
        "                                     neural_accuracy*100,rm_accuracy*100]})\n",
        "comparison.sort_values(by='Accuracy', ascending=False) #comparison among the accuracy rate"
      ],
      "metadata": {
        "colab": {
          "base_uri": "https://localhost:8080/",
          "height": 175
        },
        "id": "zdIioGGnll0h",
        "outputId": "38b91d29-2fab-4fb6-8ad4-91d2c301c952"
      },
      "execution_count": null,
      "outputs": [
        {
          "output_type": "execute_result",
          "data": {
            "text/plain": [
              "                      Model   Accuracy\n",
              "2            Neural Network  74.214354\n",
              "3             Random Forest  72.114725\n",
              "0  Decision Tree Classifier  68.162481\n",
              "1          Dummy Classifier  39.097022"
            ],
            "text/html": [
              "\n",
              "  <div id=\"df-383f4491-7b3a-4f80-afe5-0f367826f97f\">\n",
              "    <div class=\"colab-df-container\">\n",
              "      <div>\n",
              "<style scoped>\n",
              "    .dataframe tbody tr th:only-of-type {\n",
              "        vertical-align: middle;\n",
              "    }\n",
              "\n",
              "    .dataframe tbody tr th {\n",
              "        vertical-align: top;\n",
              "    }\n",
              "\n",
              "    .dataframe thead th {\n",
              "        text-align: right;\n",
              "    }\n",
              "</style>\n",
              "<table border=\"1\" class=\"dataframe\">\n",
              "  <thead>\n",
              "    <tr style=\"text-align: right;\">\n",
              "      <th></th>\n",
              "      <th>Model</th>\n",
              "      <th>Accuracy</th>\n",
              "    </tr>\n",
              "  </thead>\n",
              "  <tbody>\n",
              "    <tr>\n",
              "      <th>2</th>\n",
              "      <td>Neural Network</td>\n",
              "      <td>74.214354</td>\n",
              "    </tr>\n",
              "    <tr>\n",
              "      <th>3</th>\n",
              "      <td>Random Forest</td>\n",
              "      <td>72.114725</td>\n",
              "    </tr>\n",
              "    <tr>\n",
              "      <th>0</th>\n",
              "      <td>Decision Tree Classifier</td>\n",
              "      <td>68.162481</td>\n",
              "    </tr>\n",
              "    <tr>\n",
              "      <th>1</th>\n",
              "      <td>Dummy Classifier</td>\n",
              "      <td>39.097022</td>\n",
              "    </tr>\n",
              "  </tbody>\n",
              "</table>\n",
              "</div>\n",
              "      <button class=\"colab-df-convert\" onclick=\"convertToInteractive('df-383f4491-7b3a-4f80-afe5-0f367826f97f')\"\n",
              "              title=\"Convert this dataframe to an interactive table.\"\n",
              "              style=\"display:none;\">\n",
              "        \n",
              "  <svg xmlns=\"http://www.w3.org/2000/svg\" height=\"24px\"viewBox=\"0 0 24 24\"\n",
              "       width=\"24px\">\n",
              "    <path d=\"M0 0h24v24H0V0z\" fill=\"none\"/>\n",
              "    <path d=\"M18.56 5.44l.94 2.06.94-2.06 2.06-.94-2.06-.94-.94-2.06-.94 2.06-2.06.94zm-11 1L8.5 8.5l.94-2.06 2.06-.94-2.06-.94L8.5 2.5l-.94 2.06-2.06.94zm10 10l.94 2.06.94-2.06 2.06-.94-2.06-.94-.94-2.06-.94 2.06-2.06.94z\"/><path d=\"M17.41 7.96l-1.37-1.37c-.4-.4-.92-.59-1.43-.59-.52 0-1.04.2-1.43.59L10.3 9.45l-7.72 7.72c-.78.78-.78 2.05 0 2.83L4 21.41c.39.39.9.59 1.41.59.51 0 1.02-.2 1.41-.59l7.78-7.78 2.81-2.81c.8-.78.8-2.07 0-2.86zM5.41 20L4 18.59l7.72-7.72 1.47 1.35L5.41 20z\"/>\n",
              "  </svg>\n",
              "      </button>\n",
              "      \n",
              "  <style>\n",
              "    .colab-df-container {\n",
              "      display:flex;\n",
              "      flex-wrap:wrap;\n",
              "      gap: 12px;\n",
              "    }\n",
              "\n",
              "    .colab-df-convert {\n",
              "      background-color: #E8F0FE;\n",
              "      border: none;\n",
              "      border-radius: 50%;\n",
              "      cursor: pointer;\n",
              "      display: none;\n",
              "      fill: #1967D2;\n",
              "      height: 32px;\n",
              "      padding: 0 0 0 0;\n",
              "      width: 32px;\n",
              "    }\n",
              "\n",
              "    .colab-df-convert:hover {\n",
              "      background-color: #E2EBFA;\n",
              "      box-shadow: 0px 1px 2px rgba(60, 64, 67, 0.3), 0px 1px 3px 1px rgba(60, 64, 67, 0.15);\n",
              "      fill: #174EA6;\n",
              "    }\n",
              "\n",
              "    [theme=dark] .colab-df-convert {\n",
              "      background-color: #3B4455;\n",
              "      fill: #D2E3FC;\n",
              "    }\n",
              "\n",
              "    [theme=dark] .colab-df-convert:hover {\n",
              "      background-color: #434B5C;\n",
              "      box-shadow: 0px 1px 3px 1px rgba(0, 0, 0, 0.15);\n",
              "      filter: drop-shadow(0px 1px 2px rgba(0, 0, 0, 0.3));\n",
              "      fill: #FFFFFF;\n",
              "    }\n",
              "  </style>\n",
              "\n",
              "      <script>\n",
              "        const buttonEl =\n",
              "          document.querySelector('#df-383f4491-7b3a-4f80-afe5-0f367826f97f button.colab-df-convert');\n",
              "        buttonEl.style.display =\n",
              "          google.colab.kernel.accessAllowed ? 'block' : 'none';\n",
              "\n",
              "        async function convertToInteractive(key) {\n",
              "          const element = document.querySelector('#df-383f4491-7b3a-4f80-afe5-0f367826f97f');\n",
              "          const dataTable =\n",
              "            await google.colab.kernel.invokeFunction('convertToInteractive',\n",
              "                                                     [key], {});\n",
              "          if (!dataTable) return;\n",
              "\n",
              "          const docLinkHtml = 'Like what you see? Visit the ' +\n",
              "            '<a target=\"_blank\" href=https://colab.research.google.com/notebooks/data_table.ipynb>data table notebook</a>'\n",
              "            + ' to learn more about interactive tables.';\n",
              "          element.innerHTML = '';\n",
              "          dataTable['output_type'] = 'display_data';\n",
              "          await google.colab.output.renderOutput(dataTable, element);\n",
              "          const docLink = document.createElement('div');\n",
              "          docLink.innerHTML = docLinkHtml;\n",
              "          element.appendChild(docLink);\n",
              "        }\n",
              "      </script>\n",
              "    </div>\n",
              "  </div>\n",
              "  "
            ]
          },
          "metadata": {},
          "execution_count": 40
        }
      ]
    }
  ]
}